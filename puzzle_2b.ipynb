{
 "cells": [
  {
   "cell_type": "markdown",
   "metadata": {},
   "source": [
    "# Advent of Code 2020 - Puzzle 2B"
   ]
  },
  {
   "cell_type": "markdown",
   "metadata": {},
   "source": [
    "## Import packages"
   ]
  },
  {
   "cell_type": "code",
   "execution_count": 90,
   "metadata": {},
   "outputs": [],
   "source": [
    "import pandas as pd\n",
    "import re"
   ]
  },
  {
   "cell_type": "markdown",
   "metadata": {},
   "source": [
    "## Load data"
   ]
  },
  {
   "cell_type": "code",
   "execution_count": 91,
   "metadata": {},
   "outputs": [
    {
     "data": {
      "text/html": [
       "<div>\n",
       "<style scoped>\n",
       "    .dataframe tbody tr th:only-of-type {\n",
       "        vertical-align: middle;\n",
       "    }\n",
       "\n",
       "    .dataframe tbody tr th {\n",
       "        vertical-align: top;\n",
       "    }\n",
       "\n",
       "    .dataframe thead th {\n",
       "        text-align: right;\n",
       "    }\n",
       "</style>\n",
       "<table border=\"1\" class=\"dataframe\">\n",
       "  <thead>\n",
       "    <tr style=\"text-align: right;\">\n",
       "      <th></th>\n",
       "      <th>pattern_letter_pos_1-2</th>\n",
       "      <th>pattern_letter</th>\n",
       "      <th>password</th>\n",
       "    </tr>\n",
       "  </thead>\n",
       "  <tbody>\n",
       "    <tr>\n",
       "      <th>0</th>\n",
       "      <td>2-4</td>\n",
       "      <td>p:</td>\n",
       "      <td>vpkpp</td>\n",
       "    </tr>\n",
       "    <tr>\n",
       "      <th>1</th>\n",
       "      <td>6-16</td>\n",
       "      <td>b:</td>\n",
       "      <td>bbbbbbbbbbbbbbbpb</td>\n",
       "    </tr>\n",
       "    <tr>\n",
       "      <th>2</th>\n",
       "      <td>6-7</td>\n",
       "      <td>z:</td>\n",
       "      <td>zzfzzdz</td>\n",
       "    </tr>\n",
       "    <tr>\n",
       "      <th>3</th>\n",
       "      <td>4-6</td>\n",
       "      <td>q:</td>\n",
       "      <td>tfzqvqcpcmqqjqzd</td>\n",
       "    </tr>\n",
       "    <tr>\n",
       "      <th>4</th>\n",
       "      <td>7-8</td>\n",
       "      <td>k:</td>\n",
       "      <td>rkkkknkw</td>\n",
       "    </tr>\n",
       "  </tbody>\n",
       "</table>\n",
       "</div>"
      ],
      "text/plain": [
       "  pattern_letter_pos_1-2 pattern_letter           password\n",
       "0                    2-4             p:              vpkpp\n",
       "1                   6-16             b:  bbbbbbbbbbbbbbbpb\n",
       "2                    6-7             z:            zzfzzdz\n",
       "3                    4-6             q:   tfzqvqcpcmqqjqzd\n",
       "4                    7-8             k:           rkkkknkw"
      ]
     },
     "execution_count": 91,
     "metadata": {},
     "output_type": "execute_result"
    }
   ],
   "source": [
    "data = pd.read_csv(\"data/input_puzzle_2.txt\", header = None, delimiter = \" \")\n",
    "data.columns = ['pattern_letter_pos_1-2', 'pattern_letter', 'password'] # Add column names\n",
    "data.head()"
   ]
  },
  {
   "cell_type": "markdown",
   "metadata": {},
   "source": [
    "## Prepare data"
   ]
  },
  {
   "cell_type": "code",
   "execution_count": 92,
   "metadata": {},
   "outputs": [
    {
     "data": {
      "text/html": [
       "<div>\n",
       "<style scoped>\n",
       "    .dataframe tbody tr th:only-of-type {\n",
       "        vertical-align: middle;\n",
       "    }\n",
       "\n",
       "    .dataframe tbody tr th {\n",
       "        vertical-align: top;\n",
       "    }\n",
       "\n",
       "    .dataframe thead th {\n",
       "        text-align: right;\n",
       "    }\n",
       "</style>\n",
       "<table border=\"1\" class=\"dataframe\">\n",
       "  <thead>\n",
       "    <tr style=\"text-align: right;\">\n",
       "      <th></th>\n",
       "      <th>pattern_letter</th>\n",
       "      <th>password</th>\n",
       "      <th>pattern_letter_pos_1</th>\n",
       "      <th>pattern_letter_pos_2</th>\n",
       "    </tr>\n",
       "  </thead>\n",
       "  <tbody>\n",
       "    <tr>\n",
       "      <th>0</th>\n",
       "      <td>p</td>\n",
       "      <td>vpkpp</td>\n",
       "      <td>2</td>\n",
       "      <td>4</td>\n",
       "    </tr>\n",
       "    <tr>\n",
       "      <th>1</th>\n",
       "      <td>b</td>\n",
       "      <td>bbbbbbbbbbbbbbbpb</td>\n",
       "      <td>6</td>\n",
       "      <td>16</td>\n",
       "    </tr>\n",
       "    <tr>\n",
       "      <th>2</th>\n",
       "      <td>z</td>\n",
       "      <td>zzfzzdz</td>\n",
       "      <td>6</td>\n",
       "      <td>7</td>\n",
       "    </tr>\n",
       "    <tr>\n",
       "      <th>3</th>\n",
       "      <td>q</td>\n",
       "      <td>tfzqvqcpcmqqjqzd</td>\n",
       "      <td>4</td>\n",
       "      <td>6</td>\n",
       "    </tr>\n",
       "    <tr>\n",
       "      <th>4</th>\n",
       "      <td>k</td>\n",
       "      <td>rkkkknkw</td>\n",
       "      <td>7</td>\n",
       "      <td>8</td>\n",
       "    </tr>\n",
       "  </tbody>\n",
       "</table>\n",
       "</div>"
      ],
      "text/plain": [
       "  pattern_letter           password pattern_letter_pos_1 pattern_letter_pos_2\n",
       "0              p              vpkpp                    2                    4\n",
       "1              b  bbbbbbbbbbbbbbbpb                    6                   16\n",
       "2              z            zzfzzdz                    6                    7\n",
       "3              q   tfzqvqcpcmqqjqzd                    4                    6\n",
       "4              k           rkkkknkw                    7                    8"
      ]
     },
     "execution_count": 92,
     "metadata": {},
     "output_type": "execute_result"
    }
   ],
   "source": [
    "# New data frame with split value columns for column \"pattern_letter_pos_1-2\"\n",
    "new = data[\"pattern_letter_pos_1-2\"].str.split(\"-\", n = 1, expand = True)\n",
    "\n",
    "# Making separate first name column from new data frame \n",
    "data[\"pattern_letter_pos_1\"]= new[0] \n",
    "  \n",
    "# Making separate last name column from new data frame \n",
    "data[\"pattern_letter_pos_2\"]= new[1] \n",
    "  \n",
    "# Dropping old Name columns \n",
    "data.drop(columns =[\"pattern_letter_pos_1-2\"], inplace = True)\n",
    "\n",
    "# Remove \":\" character from column \"pattern_letter\"\n",
    "data.pattern_letter = data.pattern_letter.str.replace(':', '') \n",
    "     \n",
    "data.head()"
   ]
  },
  {
   "cell_type": "markdown",
   "metadata": {},
   "source": [
    "## Function password validation"
   ]
  },
  {
   "cell_type": "code",
   "execution_count": 93,
   "metadata": {},
   "outputs": [],
   "source": [
    "def split(word): \n",
    "    return [char for char in word]  "
   ]
  },
  {
   "cell_type": "code",
   "execution_count": 96,
   "metadata": {},
   "outputs": [],
   "source": [
    "def passwordValid(password, pattern_letter, pattern_letter_pos_1, pattern_letter_pos_2):\n",
    "    password_split = split(password)\n",
    "    \n",
    "    # Check if the password is valid:\n",
    "    if (password_split[int(pattern_letter_pos_1) - 1] == pattern_letter) and (password_split[int(pattern_letter_pos_2) -1] != pattern_letter):\n",
    "        return True  # valid password\n",
    "    elif (password_split[int(pattern_letter_pos_1) - 1] != pattern_letter) and (password_split[int(pattern_letter_pos_2) -1] == pattern_letter):\n",
    "        return True  # valid password\n",
    "    else:\n",
    "        return False # invalid password"
   ]
  },
  {
   "cell_type": "markdown",
   "metadata": {},
   "source": [
    "## Main"
   ]
  },
  {
   "cell_type": "code",
   "execution_count": 97,
   "metadata": {},
   "outputs": [],
   "source": [
    "# Append for each row in DataFrame data a boolean passwordValid:\n",
    "data['boolean_passwordValid'] = data.apply(lambda row : passwordValid(row['password'], row['pattern_letter'], row['pattern_letter_pos_1'], row['pattern_letter_pos_2']), axis = 1) "
   ]
  },
  {
   "cell_type": "code",
   "execution_count": 98,
   "metadata": {},
   "outputs": [
    {
     "name": "stdout",
     "output_type": "stream",
     "text": [
      "Total valid passwords:  745\n"
     ]
    }
   ],
   "source": [
    "# Calculate the sum of the valid passwords:\n",
    "total_number_of_valid_passwords = data['boolean_passwordValid'].values.sum()\n",
    "print(\"Total valid passwords: \", total_number_of_valid_passwords)"
   ]
  }
 ],
 "metadata": {
  "kernelspec": {
   "display_name": "Python 3",
   "language": "python",
   "name": "python3"
  },
  "language_info": {
   "codemirror_mode": {
    "name": "ipython",
    "version": 3
   },
   "file_extension": ".py",
   "mimetype": "text/x-python",
   "name": "python",
   "nbconvert_exporter": "python",
   "pygments_lexer": "ipython3",
   "version": "3.7.7"
  }
 },
 "nbformat": 4,
 "nbformat_minor": 4
}
