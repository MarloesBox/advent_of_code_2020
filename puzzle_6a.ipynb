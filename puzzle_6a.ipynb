{
 "cells": [
  {
   "cell_type": "markdown",
   "metadata": {},
   "source": [
    "# Advent of Code 2020 - Puzzle 6A"
   ]
  },
  {
   "cell_type": "markdown",
   "metadata": {},
   "source": [
    "## Import packages"
   ]
  },
  {
   "cell_type": "code",
   "execution_count": 1,
   "metadata": {},
   "outputs": [],
   "source": [
    "import pandas as pd\n",
    "\n",
    "from collections import defaultdict, Counter"
   ]
  },
  {
   "cell_type": "markdown",
   "metadata": {},
   "source": [
    "## Functions"
   ]
  },
  {
   "cell_type": "code",
   "execution_count": 2,
   "metadata": {},
   "outputs": [],
   "source": [
    "def read_file(filestring):\n",
    "\n",
    "    # open data and read lines\n",
    "    with open(filestring, 'r') as file:\n",
    "            lines = file.read().splitlines()\n",
    "\n",
    "    # make storage object\n",
    "    data = defaultdict(lambda: {})\n",
    "\n",
    "    # make first entry\n",
    "    entry, size, string = 0, 0, ''\n",
    "\n",
    "    # iterate over all ines\n",
    "    for line in lines:\n",
    "\n",
    "        if len(line) != 0:\n",
    "            \n",
    "            # add entry data\n",
    "            size += 1\n",
    "            string += line\n",
    "\n",
    "        else:\n",
    "\n",
    "            # set data\n",
    "            data[entry]['groupsize'] = size\n",
    "            data[entry]['formstring'] = string\n",
    "\n",
    "            # make new entry\n",
    "            entry += 1\n",
    "            \n",
    "            # reset old entry\n",
    "            size, string = 0, ''\n",
    "\n",
    "    # make dataframe from dict\n",
    "    df = pd.DataFrame.from_dict(data, orient='index')\n",
    "    \n",
    "    return df"
   ]
  },
  {
   "cell_type": "markdown",
   "metadata": {},
   "source": [
    "## Main"
   ]
  },
  {
   "cell_type": "code",
   "execution_count": 3,
   "metadata": {},
   "outputs": [
    {
     "data": {
      "text/html": [
       "<div>\n",
       "<style scoped>\n",
       "    .dataframe tbody tr th:only-of-type {\n",
       "        vertical-align: middle;\n",
       "    }\n",
       "\n",
       "    .dataframe tbody tr th {\n",
       "        vertical-align: top;\n",
       "    }\n",
       "\n",
       "    .dataframe thead th {\n",
       "        text-align: right;\n",
       "    }\n",
       "</style>\n",
       "<table border=\"1\" class=\"dataframe\">\n",
       "  <thead>\n",
       "    <tr style=\"text-align: right;\">\n",
       "      <th></th>\n",
       "      <th>groupsize</th>\n",
       "      <th>formstring</th>\n",
       "      <th>unique</th>\n",
       "    </tr>\n",
       "  </thead>\n",
       "  <tbody>\n",
       "    <tr>\n",
       "      <th>0</th>\n",
       "      <td>2</td>\n",
       "      <td>necytxmlfhsuuecosjvlhpmk</td>\n",
       "      <td>17</td>\n",
       "    </tr>\n",
       "    <tr>\n",
       "      <th>1</th>\n",
       "      <td>2</td>\n",
       "      <td>mnslbuziphawkxygwhpmnesikaglzb</td>\n",
       "      <td>17</td>\n",
       "    </tr>\n",
       "    <tr>\n",
       "      <th>2</th>\n",
       "      <td>2</td>\n",
       "      <td>kawakw</td>\n",
       "      <td>3</td>\n",
       "    </tr>\n",
       "    <tr>\n",
       "      <th>3</th>\n",
       "      <td>4</td>\n",
       "      <td>qurghrqugqrgugruq</td>\n",
       "      <td>5</td>\n",
       "    </tr>\n",
       "    <tr>\n",
       "      <th>4</th>\n",
       "      <td>5</td>\n",
       "      <td>sczomkvzejkhvslmucbwdopxsianovzcmktcokmvsyzozs...</td>\n",
       "      <td>23</td>\n",
       "    </tr>\n",
       "  </tbody>\n",
       "</table>\n",
       "</div>"
      ],
      "text/plain": [
       "   groupsize                                         formstring  unique\n",
       "0          2                           necytxmlfhsuuecosjvlhpmk      17\n",
       "1          2                     mnslbuziphawkxygwhpmnesikaglzb      17\n",
       "2          2                                             kawakw       3\n",
       "3          4                                  qurghrqugqrgugruq       5\n",
       "4          5  sczomkvzejkhvslmucbwdopxsianovzcmktcokmvsyzozs...      23"
      ]
     },
     "execution_count": 3,
     "metadata": {},
     "output_type": "execute_result"
    }
   ],
   "source": [
    "# read dataframe\n",
    "stats = read_file('data/input_puzzle_6.txt')\n",
    "\n",
    "# make requested information\n",
    "stats['unique'] = stats.formstring.apply(set).apply(len)\n",
    "\n",
    "# show result\n",
    "stats.head()"
   ]
  },
  {
   "cell_type": "code",
   "execution_count": 4,
   "metadata": {},
   "outputs": [
    {
     "name": "stdout",
     "output_type": "stream",
     "text": [
      "Sum of nr. of unique yes over groups: 6616\n"
     ]
    }
   ],
   "source": [
    "# print requested numbers\n",
    "print(f'Sum of nr. of unique yes over groups: {stats.unique.sum()}')"
   ]
  },
  {
   "cell_type": "code",
   "execution_count": null,
   "metadata": {},
   "outputs": [],
   "source": []
  }
 ],
 "metadata": {
  "kernelspec": {
   "display_name": "Python 3",
   "language": "python",
   "name": "python3"
  },
  "language_info": {
   "codemirror_mode": {
    "name": "ipython",
    "version": 3
   },
   "file_extension": ".py",
   "mimetype": "text/x-python",
   "name": "python",
   "nbconvert_exporter": "python",
   "pygments_lexer": "ipython3",
   "version": "3.7.7"
  }
 },
 "nbformat": 4,
 "nbformat_minor": 4
}
