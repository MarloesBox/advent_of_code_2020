{
 "cells": [
  {
   "cell_type": "markdown",
   "metadata": {},
   "source": [
    "# Advent of Code 2020 - Puzzle 7"
   ]
  },
  {
   "cell_type": "markdown",
   "metadata": {},
   "source": [
    "## Import packages"
   ]
  },
  {
   "cell_type": "code",
   "execution_count": 1,
   "metadata": {},
   "outputs": [],
   "source": [
    "import pandas as pd\n",
    "from collections import defaultdict"
   ]
  },
  {
   "cell_type": "markdown",
   "metadata": {},
   "source": [
    "## Functions"
   ]
  },
  {
   "cell_type": "code",
   "execution_count": 2,
   "metadata": {},
   "outputs": [],
   "source": [
    "def load_data(filepath):\n",
    "    \"\"\"load data from filepath\"\"\"\n",
    "    \n",
    "    # open datafile and read string\n",
    "    with open(filepath, 'r') as file:\n",
    "        lines = file.read().splitlines()\n",
    "\n",
    "    # make storage object\n",
    "    data = defaultdict(lambda: {})\n",
    "\n",
    "    # iterate over all ines\n",
    "    for line in lines:\n",
    "        \n",
    "        # some ugly corrections\n",
    "        line = line.replace('no other bags', '0 other bags')\n",
    "        line = line.replace(' bags', '')\n",
    "        line = line.replace(' bag', '')\n",
    "\n",
    "        # unpack bag into bags\n",
    "        bigbag, smallbags = line.split(' contain ')\n",
    "\n",
    "        smallbags = smallbags.strip('.')\n",
    "        smallbags = smallbags.split(',')\n",
    "\n",
    "        for smallbag in smallbags:\n",
    "            smallbag = smallbag.lstrip()\n",
    "            nr, bag = smallbag.split(' ', 1)\n",
    "\n",
    "            data[bigbag][bag] = int(nr)\n",
    "\n",
    "    data = dict(data)\n",
    "\n",
    "    return pd.DataFrame.from_dict(data, orient='index')\n",
    "\n",
    "def bag_unwrapper(name, df):\n",
    "    \"\"\"iterate column over index\"\"\"\n",
    "        \n",
    "    # storage object\n",
    "    bags = pd.Series(dtype='int64')\n",
    "    \n",
    "    # ignore bags without entry\n",
    "    if name in df.columns:\n",
    "\n",
    "        # subset and dropna\n",
    "        bags = df[name].dropna()\n",
    "\n",
    "        # iterate over index\n",
    "        for bagname in bags.index:\n",
    "            \n",
    "            # recursion and append series\n",
    "            bgss = bag_unwrapper(bagname, df)\n",
    "            bags = bags.append(bgss)\n",
    "\n",
    "    # reset dtype to int64\n",
    "    bags = bags.astype('int64')\n",
    "            \n",
    "    return bags\n",
    "\n",
    "def bag_wrapper(name, number, df):\n",
    "    \"\"\"iterate index over column\"\"\"\n",
    "    \n",
    "    # storage object\n",
    "    bags = pd.Series(dtype='int64')\n",
    "    \n",
    "    # ignore bags within entry\n",
    "    if name in df.index:\n",
    "    \n",
    "        # subset and dropna\n",
    "        bags = df.loc[name].dropna()\n",
    "\n",
    "        # iterate over index and value\n",
    "        for bagname, nr in bags.iteritems():\n",
    "            \n",
    "            # recursion and append series\n",
    "            bgss = bag_wrapper(bagname, nr, df)\n",
    "            bags = bags.append(bgss)\n",
    "\n",
    "        # scale result\n",
    "        bags *= number\n",
    "        \n",
    "    # reset dtype to int64\n",
    "    bags = bags.astype('int64')\n",
    "    \n",
    "    return bags"
   ]
  },
  {
   "cell_type": "markdown",
   "metadata": {},
   "source": [
    "## Main"
   ]
  },
  {
   "cell_type": "code",
   "execution_count": 3,
   "metadata": {},
   "outputs": [
    {
     "name": "stdout",
     "output_type": "stream",
     "text": [
      "Bag options for shiny gold: 233\n"
     ]
    }
   ],
   "source": [
    "# load data as dataframe\n",
    "df = load_data('data/input_puzzle_7.txt')\n",
    "\n",
    "# unwrap shiny bags and get answer\n",
    "bags = bag_unwrapper('shiny gold', df).groupby(level=0).sum()\n",
    "answer = bags.index.size\n",
    "\n",
    "# print result\n",
    "print(f'Bag options for shiny gold: {answer}')"
   ]
  },
  {
   "cell_type": "code",
   "execution_count": 4,
   "metadata": {},
   "outputs": [
    {
     "name": "stdout",
     "output_type": "stream",
     "text": [
      "Nr. of bags to fill a shiny gold: 421550\n"
     ]
    }
   ],
   "source": [
    "# load data as dataframe\n",
    "df = load_data('data/input_puzzle_7.txt')\n",
    "\n",
    "# wrap shiny bags and get answer\n",
    "bags = bag_wrapper('shiny gold', 1, df).groupby(level=0).sum()\n",
    "answer = bags.sum()\n",
    "\n",
    "# print result\n",
    "print(f'Nr. of bags to fill a shiny gold: {answer}')"
   ]
  },
  {
   "cell_type": "code",
   "execution_count": null,
   "metadata": {},
   "outputs": [],
   "source": []
  }
 ],
 "metadata": {
  "kernelspec": {
   "display_name": "Python 3",
   "language": "python",
   "name": "python3"
  },
  "language_info": {
   "codemirror_mode": {
    "name": "ipython",
    "version": 3
   },
   "file_extension": ".py",
   "mimetype": "text/x-python",
   "name": "python",
   "nbconvert_exporter": "python",
   "pygments_lexer": "ipython3",
   "version": "3.7.7"
  }
 },
 "nbformat": 4,
 "nbformat_minor": 4
}
