{
 "cells": [
  {
   "cell_type": "markdown",
   "metadata": {},
   "source": [
    "# Advent of Code 2020 - Puzzle 8"
   ]
  },
  {
   "cell_type": "markdown",
   "metadata": {},
   "source": [
    "## Import packages"
   ]
  },
  {
   "cell_type": "code",
   "execution_count": 1,
   "metadata": {},
   "outputs": [],
   "source": [
    "import pandas as pd\n",
    "from collections import defaultdict"
   ]
  },
  {
   "cell_type": "markdown",
   "metadata": {},
   "source": [
    "## Functions"
   ]
  },
  {
   "cell_type": "code",
   "execution_count": 2,
   "metadata": {},
   "outputs": [],
   "source": [
    "def read_data(filepath):\n",
    "    \"\"\"read data\"\"\" \n",
    "    \n",
    "    # load data in dataframe\n",
    "    df = pd.read_csv(filepath, header=None, names=['instructions'])\n",
    "    \n",
    "    # split string and rename columns\n",
    "    df = df.instructions.str.split(' ', expand=True)\n",
    "    df.columns = ['func', 'value']\n",
    "    \n",
    "    # reset dtype of value series\n",
    "    df.value = df.value.astype('int64')\n",
    "    \n",
    "    return df    \n",
    "\n",
    "def run_instruction(func, value):\n",
    "    \"\"\"returns delta acc, delta line\"\"\" \n",
    "\n",
    "    if func == 'acc':\n",
    "        return value, 1\n",
    "                \n",
    "    elif func == 'jmp':\n",
    "        return 0, value\n",
    "    \n",
    "    elif func == 'nop':\n",
    "        return 0, 1\n",
    "    \n",
    "    else:\n",
    "        raise KeyError(f'{func} is unsupported')\n",
    "        \n",
    "\n",
    "def program(instructions):\n",
    "    \"\"\"execute program until bug or end\"\"\"\n",
    "\n",
    "    # default params\n",
    "    acc, line, lines = 0, 0, []\n",
    "    \n",
    "    while line not in lines:\n",
    "        \n",
    "        # subset instruction\n",
    "        lines.append(line)\n",
    "        instr = instructions.loc[line]\n",
    "        \n",
    "        # get instruction deltas\n",
    "        dacc, dline = run_instruction(instr.func, instr.value)\n",
    "        \n",
    "        # add results\n",
    "        acc += dacc\n",
    "        line += dline\n",
    "        \n",
    "        # if instruction reached end\n",
    "        if line == instructions.index.size:\n",
    "            return acc, line\n",
    "        \n",
    "    return acc, line\n",
    "    \n",
    "def change_code(func):\n",
    "    \"\"\"change function\"\"\"\n",
    "    \n",
    "    if func == 'jmp':\n",
    "        return 'nop'\n",
    "    \n",
    "    elif func == 'nop':\n",
    "        return 'jmp'\n",
    "    \n",
    "    else:\n",
    "        raise ValueError(f'{func} not supported')\n",
    "\n",
    "def debug_program(instructions):\n",
    "    \"\"\"version control\"\"\"\n",
    "    \n",
    "    cntr, line = 0, 0\n",
    "    options = instructions[instructions.func != 'acc']\n",
    "    options = options.reset_index()\n",
    "    \n",
    "    while line < instructions.index.size: \n",
    "                \n",
    "        # make new version\n",
    "        version = instructions.copy()\n",
    "\n",
    "        # change option in version\n",
    "        option = options.loc[cntr]\n",
    "        version.iat[option['index'], 0] = change_code(option.func)\n",
    "        \n",
    "        acc, line = program(version)\n",
    "        \n",
    "        cntr += 1\n",
    "        \n",
    "    return acc"
   ]
  },
  {
   "cell_type": "markdown",
   "metadata": {},
   "source": [
    "## Main"
   ]
  },
  {
   "cell_type": "code",
   "execution_count": 3,
   "metadata": {},
   "outputs": [
    {
     "name": "stdout",
     "output_type": "stream",
     "text": [
      "Answer part 1: 1521\n"
     ]
    }
   ],
   "source": [
    "# read data\n",
    "df = read_data('data/input_puzzle_8.txt')\n",
    "\n",
    "# get result\n",
    "answer = program(df)[0]\n",
    "print(f'Answer part 1: {answer}')"
   ]
  },
  {
   "cell_type": "code",
   "execution_count": 4,
   "metadata": {},
   "outputs": [
    {
     "name": "stdout",
     "output_type": "stream",
     "text": [
      "Answer part 2: 1016\n"
     ]
    }
   ],
   "source": [
    "# get result\n",
    "answer = debug_program(df)\n",
    "print(f'Answer part 2: {answer}')"
   ]
  },
  {
   "cell_type": "code",
   "execution_count": null,
   "metadata": {},
   "outputs": [],
   "source": []
  }
 ],
 "metadata": {
  "kernelspec": {
   "display_name": "Python 3",
   "language": "python",
   "name": "python3"
  },
  "language_info": {
   "codemirror_mode": {
    "name": "ipython",
    "version": 3
   },
   "file_extension": ".py",
   "mimetype": "text/x-python",
   "name": "python",
   "nbconvert_exporter": "python",
   "pygments_lexer": "ipython3",
   "version": "3.7.7"
  }
 },
 "nbformat": 4,
 "nbformat_minor": 4
}
