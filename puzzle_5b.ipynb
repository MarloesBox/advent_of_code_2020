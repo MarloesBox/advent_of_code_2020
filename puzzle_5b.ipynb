{
 "cells": [
  {
   "cell_type": "markdown",
   "metadata": {},
   "source": [
    "# Advent of Code 2020 - Puzzle 5B"
   ]
  },
  {
   "cell_type": "markdown",
   "metadata": {},
   "source": [
    "## Import packages"
   ]
  },
  {
   "cell_type": "code",
   "execution_count": 1,
   "metadata": {},
   "outputs": [],
   "source": [
    "import numpy as np\n",
    "import pandas as pd"
   ]
  },
  {
   "cell_type": "markdown",
   "metadata": {},
   "source": [
    "## Main"
   ]
  },
  {
   "cell_type": "code",
   "execution_count": 2,
   "metadata": {},
   "outputs": [],
   "source": [
    "def binairy_parser(string, upp, low, rmin, rmax, slen):\n",
    "    \"\"\"parse a given (part) of a binairy string.\"\"\"\n",
    "    \n",
    "    # check stringlength\n",
    "    if len(string) > slen:\n",
    "        raise ValueError('string length exceeds maximum')\n",
    "        \n",
    "    # iterate over identifiers in string\n",
    "    for nr, idf in enumerate(string):\n",
    "        \n",
    "        # correct for zero indexing\n",
    "        nr = nr + 1\n",
    "        \n",
    "        # if upper identifier\n",
    "        if idf == upp:\n",
    "            if nr < slen:\n",
    "                rmax -= (rmax - rmin + 1) / 2\n",
    "            else:\n",
    "                return int(rmin)\n",
    "            \n",
    "        # if lower identifier\n",
    "        elif idf == low:    \n",
    "            if nr < slen:\n",
    "                rmin += (rmax - rmin + 1) / 2\n",
    "            else:\n",
    "                return int(rmax)\n",
    "        \n",
    "        # raise error for unknown identifiers\n",
    "        else:\n",
    "            raise ValueError(f'{idf} is not a valid identifier')\n",
    "        \n",
    "\n",
    "def row_parser(string):\n",
    "    \"\"\"parse rows with single \n",
    "    string argument for mappability\"\"\"\n",
    "    \n",
    "    # specify defaults\n",
    "    upp, low = 'F', 'B'\n",
    "    rmin, rmax = 0, 127\n",
    "    slen = 7\n",
    "    \n",
    "    # get result\n",
    "    result = binairy_parser(string, upp, low, rmin, rmax, slen)\n",
    "    \n",
    "    return result\n",
    "\n",
    "def column_parser(string):\n",
    "    \"\"\"parse columns with single\n",
    "    string argument for mappability\"\"\"\n",
    "    \n",
    "    # specify defaults\n",
    "    upp, low = 'L', 'R'\n",
    "    rmin, rmax = 0, 7\n",
    "    slen = 3\n",
    "    \n",
    "    # get result\n",
    "    result = binairy_parser(string, upp, low, rmin, rmax, slen)\n",
    "    \n",
    "    return result"
   ]
  },
  {
   "cell_type": "code",
   "execution_count": 3,
   "metadata": {},
   "outputs": [
    {
     "data": {
      "text/html": [
       "<div>\n",
       "<style scoped>\n",
       "    .dataframe tbody tr th:only-of-type {\n",
       "        vertical-align: middle;\n",
       "    }\n",
       "\n",
       "    .dataframe tbody tr th {\n",
       "        vertical-align: top;\n",
       "    }\n",
       "\n",
       "    .dataframe thead th {\n",
       "        text-align: right;\n",
       "    }\n",
       "</style>\n",
       "<table border=\"1\" class=\"dataframe\">\n",
       "  <thead>\n",
       "    <tr style=\"text-align: right;\">\n",
       "      <th></th>\n",
       "      <th>binairy_id</th>\n",
       "      <th>row</th>\n",
       "      <th>column</th>\n",
       "      <th>seat_id</th>\n",
       "    </tr>\n",
       "  </thead>\n",
       "  <tbody>\n",
       "    <tr>\n",
       "      <th>0</th>\n",
       "      <td>BBFFBFFRRR</td>\n",
       "      <td>100</td>\n",
       "      <td>7</td>\n",
       "      <td>807</td>\n",
       "    </tr>\n",
       "    <tr>\n",
       "      <th>1</th>\n",
       "      <td>FBBFFBBLRR</td>\n",
       "      <td>51</td>\n",
       "      <td>3</td>\n",
       "      <td>411</td>\n",
       "    </tr>\n",
       "    <tr>\n",
       "      <th>2</th>\n",
       "      <td>FFBFBFBRRR</td>\n",
       "      <td>21</td>\n",
       "      <td>7</td>\n",
       "      <td>175</td>\n",
       "    </tr>\n",
       "    <tr>\n",
       "      <th>3</th>\n",
       "      <td>FFFBFBFRRR</td>\n",
       "      <td>10</td>\n",
       "      <td>7</td>\n",
       "      <td>87</td>\n",
       "    </tr>\n",
       "    <tr>\n",
       "      <th>4</th>\n",
       "      <td>BBFFBBFLRR</td>\n",
       "      <td>102</td>\n",
       "      <td>3</td>\n",
       "      <td>819</td>\n",
       "    </tr>\n",
       "  </tbody>\n",
       "</table>\n",
       "</div>"
      ],
      "text/plain": [
       "   binairy_id  row  column  seat_id\n",
       "0  BBFFBFFRRR  100       7      807\n",
       "1  FBBFFBBLRR   51       3      411\n",
       "2  FFBFBFBRRR   21       7      175\n",
       "3  FFFBFBFRRR   10       7       87\n",
       "4  BBFFBBFLRR  102       3      819"
      ]
     },
     "execution_count": 3,
     "metadata": {},
     "output_type": "execute_result"
    }
   ],
   "source": [
    "df = pd.read_csv('data/input_puzzle_5.txt', header=None, names=['binairy_id'])\n",
    "\n",
    "# identify rows\n",
    "rstr = df.binairy_id.str[:7]\n",
    "df['row'] = rstr.apply(row_parser)\n",
    "\n",
    "# identify columns\n",
    "cstr = df.binairy_id.str[7:]\n",
    "df['column'] = cstr.apply(column_parser)\n",
    "\n",
    "# make seat_id\n",
    "df['seat_id'] = df.row * 8 + df.column\n",
    "\n",
    "# show df\n",
    "df.head()"
   ]
  },
  {
   "cell_type": "code",
   "execution_count": 4,
   "metadata": {},
   "outputs": [
    {
     "name": "stdout",
     "output_type": "stream",
     "text": [
      "Maximum seat ID: 871\n"
     ]
    }
   ],
   "source": [
    "# get max seat id\n",
    "mx = df.seat_id.max()\n",
    "\n",
    "# print result\n",
    "print(f'Maximum seat ID: {mx}')"
   ]
  },
  {
   "cell_type": "code",
   "execution_count": 5,
   "metadata": {},
   "outputs": [
    {
     "data": {
      "text/html": [
       "<div>\n",
       "<style scoped>\n",
       "    .dataframe tbody tr th:only-of-type {\n",
       "        vertical-align: middle;\n",
       "    }\n",
       "\n",
       "    .dataframe tbody tr th {\n",
       "        vertical-align: top;\n",
       "    }\n",
       "\n",
       "    .dataframe thead th {\n",
       "        text-align: right;\n",
       "    }\n",
       "</style>\n",
       "<table border=\"1\" class=\"dataframe\">\n",
       "  <thead>\n",
       "    <tr style=\"text-align: right;\">\n",
       "      <th></th>\n",
       "      <th>0</th>\n",
       "      <th>1</th>\n",
       "      <th>2</th>\n",
       "      <th>3</th>\n",
       "      <th>4</th>\n",
       "      <th>5</th>\n",
       "      <th>6</th>\n",
       "      <th>7</th>\n",
       "    </tr>\n",
       "  </thead>\n",
       "  <tbody>\n",
       "    <tr>\n",
       "      <th>0</th>\n",
       "      <td>NaN</td>\n",
       "      <td>NaN</td>\n",
       "      <td>NaN</td>\n",
       "      <td>NaN</td>\n",
       "      <td>NaN</td>\n",
       "      <td>NaN</td>\n",
       "      <td>NaN</td>\n",
       "      <td>NaN</td>\n",
       "    </tr>\n",
       "    <tr>\n",
       "      <th>1</th>\n",
       "      <td>NaN</td>\n",
       "      <td>NaN</td>\n",
       "      <td>NaN</td>\n",
       "      <td>NaN</td>\n",
       "      <td>1.0</td>\n",
       "      <td>1.0</td>\n",
       "      <td>1.0</td>\n",
       "      <td>1.0</td>\n",
       "    </tr>\n",
       "    <tr>\n",
       "      <th>80</th>\n",
       "      <td>NaN</td>\n",
       "      <td>1.0</td>\n",
       "      <td>1.0</td>\n",
       "      <td>1.0</td>\n",
       "      <td>1.0</td>\n",
       "      <td>1.0</td>\n",
       "      <td>1.0</td>\n",
       "      <td>1.0</td>\n",
       "    </tr>\n",
       "    <tr>\n",
       "      <th>109</th>\n",
       "      <td>NaN</td>\n",
       "      <td>NaN</td>\n",
       "      <td>NaN</td>\n",
       "      <td>NaN</td>\n",
       "      <td>NaN</td>\n",
       "      <td>NaN</td>\n",
       "      <td>NaN</td>\n",
       "      <td>NaN</td>\n",
       "    </tr>\n",
       "    <tr>\n",
       "      <th>110</th>\n",
       "      <td>NaN</td>\n",
       "      <td>NaN</td>\n",
       "      <td>NaN</td>\n",
       "      <td>NaN</td>\n",
       "      <td>NaN</td>\n",
       "      <td>NaN</td>\n",
       "      <td>NaN</td>\n",
       "      <td>NaN</td>\n",
       "    </tr>\n",
       "  </tbody>\n",
       "</table>\n",
       "</div>"
      ],
      "text/plain": [
       "      0    1    2    3    4    5    6    7\n",
       "0   NaN  NaN  NaN  NaN  NaN  NaN  NaN  NaN\n",
       "1   NaN  NaN  NaN  NaN  1.0  1.0  1.0  1.0\n",
       "80  NaN  1.0  1.0  1.0  1.0  1.0  1.0  1.0\n",
       "109 NaN  NaN  NaN  NaN  NaN  NaN  NaN  NaN\n",
       "110 NaN  NaN  NaN  NaN  NaN  NaN  NaN  NaN"
      ]
     },
     "execution_count": 5,
     "metadata": {},
     "output_type": "execute_result"
    }
   ],
   "source": [
    "# specify plane dimensions\n",
    "index = [x for x in range(128)]\n",
    "columns = [x for x in range(8)]\n",
    "\n",
    "# make plane dataframe\n",
    "plane = pd.DataFrame(np.nan, index=index, columns=columns)\n",
    "\n",
    "# place tickets in plane\n",
    "for idx, values in df.iterrows():\n",
    "    plane.at[values.row, values.column] = 1\n",
    "    \n",
    "# check plane layout for possible position\n",
    "plane[plane.isna().any(axis=1)].head()"
   ]
  },
  {
   "cell_type": "code",
   "execution_count": 6,
   "metadata": {},
   "outputs": [
    {
     "name": "stdout",
     "output_type": "stream",
     "text": [
      "My seat ID: 640\n"
     ]
    }
   ],
   "source": [
    "# make seat id\n",
    "seat = 80 * 8 + 0\n",
    "\n",
    "# print result\n",
    "print(f'My seat ID: {seat}')"
   ]
  },
  {
   "cell_type": "code",
   "execution_count": null,
   "metadata": {},
   "outputs": [],
   "source": []
  }
 ],
 "metadata": {
  "kernelspec": {
   "display_name": "Python 3",
   "language": "python",
   "name": "python3"
  },
  "language_info": {
   "codemirror_mode": {
    "name": "ipython",
    "version": 3
   },
   "file_extension": ".py",
   "mimetype": "text/x-python",
   "name": "python",
   "nbconvert_exporter": "python",
   "pygments_lexer": "ipython3",
   "version": "3.7.7"
  }
 },
 "nbformat": 4,
 "nbformat_minor": 4
}
